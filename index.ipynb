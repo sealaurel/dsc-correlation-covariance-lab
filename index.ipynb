{
 "cells": [
  {
   "cell_type": "markdown",
   "metadata": {},
   "source": [
    "# Covariance and Correlation - Lab\n",
    "\n",
    "## Introduction\n",
    "\n",
    "In this lab, you will calculate covariance and correlation for some data in Python lists by using the formulas shown in the previous lesson. \n",
    "\n",
    "## Objectives\n",
    "\n",
    "You will be able to: \n",
    "- Calculate covariance and correlation  \n",
    "- Declare and use a function with arguments   \n",
    "\n",
    "\n",
    "## The Data\n",
    "\n",
    "The two variables include 20 heights (in inches) and weights (in pounds). This will help us focus more on seeing covariance and correlation in action!\n",
    "\n",
    "At this point, you should be able to calculate the average height and average weight. You can also explain the medians, variances, and standard deviations for this dataset.\n",
    "\n",
    "But all of those measurements are only concerned with a **single variable**. Now that we have both heights and weights, we want to perform statistical analysis for **multiple variables**. In this lab, you'll answer the following questions:\n",
    "\n",
    "1. Is there a linear relationship between weight an height? \n",
    "2. Does weight increase as height increases?\n",
    "3. How strong is the linear relationship between weight and height?\n",
    "\n",
    "There are always exceptions, but when you look at the population in general, taller people will tend to weigh more than shorter people. While you should *always* be cautious when generalizing, generalization of information can be very useful as it shows you a bigger picture that you can build your intuitions upon. This is also what a lot of core statistical principles are built upon.\n",
    "\n",
    "First, run the below cells to load the heights and weights into memory."
   ]
  },
  {
   "cell_type": "code",
   "execution_count": 1,
   "metadata": {},
   "outputs": [],
   "source": [
    "# Run this cell without changes\n",
    "height = [68, 71, 61, 69, 71, 58, 72, 73, 58, 74, \n",
    "          61, 59, 69, 68, 64, 69, 72, 66, 65, 69]\n",
    "weight = [165, 201, 140, 170, 192, 125, 195, 205, \n",
    "          115, 210, 135, 125, 172, 175, 145, 170, \n",
    "          200, 155, 150, 171]"
   ]
  },
  {
   "cell_type": "markdown",
   "metadata": {},
   "source": [
    "## Calculating the Covariance \n",
    "\n",
    "In the previous lesson, we used this formula to represent population covariance:\n",
    "\n",
    "$$\\sigma_{XY} = \\dfrac{1}{n}\\displaystyle\\sum_{i=1}^{n}(x_i -\\mu_x)(y_i - \\mu_y)$$\n",
    "\n",
    "In this lab, we will be using the sample version of the formula, because of the assumption that this particular data is a _sample of a bigger population_. The bigger population here could be the entire world population. Here is this version of the formula:\n",
    "\n",
    "$$cov (X,Y) = \\frac{1}{n-1}\\displaystyle\\sum_{i=1}^{n}(x_i -\\bar x)(y_i - \\bar y)$$\n",
    "\n",
    "This is mostly the same formula, with two differences:\n",
    "\n",
    "1. Instead of $\\mu_x$ and $\\mu_y$ (the means for _populations_ $X$ and $Y$), we have $\\bar x$ and $\\bar y$, which are the means for _samples_ $X$ and $Y$. In both cases, the mean is the sum of the values divided by the count of the values.\n",
    "2. We divide by $(n-1)$ here, instead of dividing by $n$. As with the differences in calculating variance and standard deviation for a *population* and a *sample*:\n",
    "    - When calculating for a *population*, we would divide by $n$\n",
    "    - When calculating for a *sample* (as we are now), we divide by $n-1$\n",
    "\n",
    "These parts of the formula are the same:\n",
    "\n",
    "- $x_i$ = ith element of variable $X$\n",
    "- $y_i$ = ith element of variable $Y$\n",
    "- $n$ = number of data points ($n$ must be same for $X$ and $Y$)\n",
    "\n",
    "### Mean Normalization \n",
    "\n",
    "Looking at the formula of covariance, you'll notice that it is composed of $(x_i -\\bar x)$ and $(y_i -\\bar y)$. These are also known as the **mean normalized** variables $X$ and $Y$. The idea is that you take each element in $X$ and $Y$ and respectively subtract the mean of $X$ and $Y$. The result is that your altered (\"normalized\") $X$ and $Y$ now have mean 0.\n",
    "\n",
    "So how do you do this? You can write a function that takes in a list, calculates the mean of this list, and returns a new list containing each element minus the calculated mean value. This will be used to calculate $(x_i -\\bar x)$ and $(y_i -\\bar y)$."
   ]
  },
  {
   "cell_type": "code",
   "execution_count": 2,
   "metadata": {},
   "outputs": [
    {
     "data": {
      "text/plain": [
       "([-2.0, -1.0, 0.0, 1.0, 2.0], [-22.0, -11.0, 0.0, 11.0, 22.0])"
      ]
     },
     "execution_count": 2,
     "metadata": {},
     "output_type": "execute_result"
    }
   ],
   "source": [
    "# Replace None with appropriate code\n",
    "def get_mean(data):\n",
    "    total_of_all_elements=sum(data)\n",
    "    number_of_records=len(data)\n",
    "    mean=(total_of_all_elements/number_of_records)\n",
    "    return mean\n",
    "\n",
    "def mean_normalize(var):\n",
    "    # Initialize a list for storing normalized values\n",
    "    normalized_list=[]\n",
    "    # Calculate the mean of var\n",
    "    mean=get_mean(var)\n",
    "    # For each element in var, subtract the mean and add the result to the new list\n",
    "    for element in var:\n",
    "        normalized_list.append(element-mean)\n",
    "    # Return the new list\n",
    "    return normalized_list\n",
    "\n",
    "mean_normalize([1, 2, 3, 4, 5]), mean_normalize([11, 22, 33, 44, 55])\n",
    "# ([-2.0, -1.0, 0.0, 1.0, 2.0], [-22.0, -11.0, 0.0, 11.0, 22.0])"
   ]
  },
  {
   "cell_type": "markdown",
   "metadata": {},
   "source": [
    "Great! You'll see that our function maintains the _variance_ of list elements and moves the mean to zero. As a quick test, you can visualize what exactly happens to the data with mean normalization.\n",
    "\n",
    "Use the `mean_normalize()` function to create a new variable `height_normalized` to be used in the plotting code below."
   ]
  },
  {
   "cell_type": "code",
   "execution_count": 5,
   "metadata": {},
   "outputs": [
    {
     "data": {
      "text/plain": [
       "[1.1500000000000057,\n",
       " 4.150000000000006,\n",
       " -5.849999999999994,\n",
       " 2.1500000000000057,\n",
       " 4.150000000000006,\n",
       " -8.849999999999994,\n",
       " 5.150000000000006,\n",
       " 6.150000000000006,\n",
       " -8.849999999999994,\n",
       " 7.150000000000006,\n",
       " -5.849999999999994,\n",
       " -7.849999999999994,\n",
       " 2.1500000000000057,\n",
       " 1.1500000000000057,\n",
       " -2.8499999999999943,\n",
       " 2.1500000000000057,\n",
       " 5.150000000000006,\n",
       " -0.8499999999999943,\n",
       " -1.8499999999999943,\n",
       " 2.1500000000000057]"
      ]
     },
     "execution_count": 5,
     "metadata": {},
     "output_type": "execute_result"
    }
   ],
   "source": [
    "# Mean normalize the height (replace None with appropriate code)\n",
    "height_normalized = mean_normalize(height)\n",
    "height_normalized"
   ]
  },
  {
   "cell_type": "markdown",
   "metadata": {},
   "source": [
    "Now, run the cell below to visualize the data before and after mean normalization. "
   ]
  },
  {
   "cell_type": "code",
   "execution_count": 6,
   "metadata": {},
   "outputs": [
    {
     "data": {
      "image/png": "[encoded data removed]",
      "text/plain": [
       "<Figure size 432x288 with 1 Axes>"
      ]
     },
     "metadata": {
      "needs_background": "light"
     },
     "output_type": "display_data"
    }
   ],
   "source": [
    "# Run this cell without changes\n",
    "import matplotlib.pyplot as plt\n",
    "%matplotlib inline\n",
    "\n",
    "fig, ax = plt.subplots()\n",
    "\n",
    "ax.hist(height_normalized, label=\"normalized data\", bins=6)\n",
    "ax.hist(height, label=\"original data\", bins=6)\n",
    "\n",
    "ax.set_title(\"Distribution of Height Data Before and After Normalization\")\n",
    "ax.set_xlabel(\"Height\")\n",
    "ax.set_ylabel(\"Count\")\n",
    "\n",
    "ax.legend(loc=\"center\");"
   ]
  },
  {
   "cell_type": "code",
   "execution_count": 7,
   "metadata": {},
   "outputs": [
    {
     "data": {
      "text/plain": [
       "[-0.8000000000000114,\n",
       " 35.19999999999999,\n",
       " -25.80000000000001,\n",
       " 4.199999999999989,\n",
       " 26.19999999999999,\n",
       " -40.80000000000001,\n",
       " 29.19999999999999,\n",
       " 39.19999999999999,\n",
       " -50.80000000000001,\n",
       " 44.19999999999999,\n",
       " -30.80000000000001,\n",
       " -40.80000000000001,\n",
       " 6.199999999999989,\n",
       " 9.199999999999989,\n",
       " -20.80000000000001,\n",
       " 4.199999999999989,\n",
       " 34.19999999999999,\n",
       " -10.800000000000011,\n",
       " -15.800000000000011,\n",
       " 5.199999999999989]"
      ]
     },
     "execution_count": 7,
     "metadata": {},
     "output_type": "execute_result"
    }
   ],
   "source": [
    "weight_normalized = mean_normalize(weight)\n",
    "weight_normalized"
   ]
  },
  {
   "cell_type": "code",
   "execution_count": 8,
   "metadata": {},
   "outputs": [
    {
     "data": {
      "image/png": "[encoded data removed]",
      "text/plain": [
       "<Figure size 432x288 with 1 Axes>"
      ]
     },
     "metadata": {
      "needs_background": "light"
     },
     "output_type": "display_data"
    }
   ],
   "source": [
    "import matplotlib.pyplot as plt\n",
    "%matplotlib inline\n",
    "\n",
    "fig, ax = plt.subplots()\n",
    "\n",
    "ax.hist(weight_normalized, label=\"normalized data\", bins=6)\n",
    "ax.hist(weight, label=\"original data\", bins=6)\n",
    "\n",
    "ax.set_title(\"Distribution of Weight Data Before and After Normalization\")\n",
    "ax.set_xlabel(\"Weight\")\n",
    "ax.set_ylabel(\"Count\")\n",
    "\n",
    "ax.legend(loc=\"center\");"
   ]
  },
  {
   "cell_type": "markdown",
   "metadata": {},
   "source": [
    "There you go! The _shape_ of the data isn't changed, but the mean is just shifted! You can also try this for the `weight` variable if you wish.\n",
    "\n",
    "### The Dot Product\n",
    "Now that you know how to normalize the variables `height` and `weight` (i.e. $(x_i -\\mu_x)$ and $(y_i - \\mu_y)$ in math notation) it's time to take the _dot product_ of these two normalized variables in order to find $\\sum_{i=1}^{n}(x_i -\\mu_x)(y_i - \\mu_y)$.\n",
    "\n",
    "> A dot product is a linear algebraic operation that takes two equal-length sequences of numbers and returns a single number which can be used as a measure of similarity between these sequences (also known as vectors).\n",
    "\n",
    "[Here is a great article explaining this in detail](https://betterexplained.com/articles/vector-calculus-understanding-the-dot-product/).\n",
    "\n",
    "For two vectors `a` and `b`, a dot product is calculated by multiplying each element of one vector to its counterpart in the second, and then adding them up together. Imagine you want to take the dot product of two variables `a` and `b`:\n",
    "\n",
    "```\n",
    " a[0] * b[0] + a[1] * b[1] + a[2] * b[2] ...\n",
    "\n",
    "```\n",
    "\n",
    "Let's write a function that takes two iterables and returns their dot product. "
   ]
  },
  {
   "cell_type": "code",
   "execution_count": 9,
   "metadata": {},
   "outputs": [
    {
     "data": {
      "text/plain": [
       "32"
      ]
     },
     "execution_count": 9,
     "metadata": {},
     "output_type": "execute_result"
    }
   ],
   "source": [
    "# Replace None with appropriate code\n",
    "\n",
    "def dot_product(x, y):\n",
    "    dot_product_result=0\n",
    "    index=0\n",
    "    for index in range(len(x)):\n",
    "        dot_product_result += x[index]*y[index]\n",
    "    return dot_product_result\n",
    "\n",
    "a = [1, 2, 3]\n",
    "b = [4, 5, 6]\n",
    "\n",
    "dot_product(a,b)\n",
    "#  32, calculated as (1*4 + 2*5 + 3*6)"
   ]
  },
  {
   "cell_type": "markdown",
   "metadata": {},
   "source": [
    "If you apply `mean_normalize` then `dot_product`, you have $\\sum_{i=1}^{n}(x_i -\\mu_x)(y_i - \\mu_y)$ (the numerator of the covariance formula).\n",
    "\n",
    "Now that have the numerator of the formula sorted out, let's finally write a function `covariance()` that takes the `height` and `weight` lists and returns the covariance value using the functions you created earlier.\n",
    "\n",
    "To accomplish this, apply `mean_normalize` and `dot_product`, and divide the whole thing by $n-1$ in order to get the covariance:\n",
    "\n",
    "$$\\frac{1}{n-1}\\displaystyle\\sum_{i=1}^{n}(x_i -\\bar x)(y_i - \\bar y)$$"
   ]
  },
  {
   "cell_type": "code",
   "execution_count": 10,
   "metadata": {},
   "outputs": [
    {
     "data": {
      "text/plain": [
       "144.75789473684208"
      ]
     },
     "execution_count": 10,
     "metadata": {},
     "output_type": "execute_result"
    }
   ],
   "source": [
    "# Replace None with appropriate code\n",
    "\n",
    "def covariance(x, y):\n",
    "    # Mean normalize both lists\n",
    "    x_norm = mean_normalize(x)\n",
    "    y_norm = mean_normalize(y)\n",
    "\n",
    "    # Calculate the numerator\n",
    "    numerator = dot_product(x_norm,y_norm)\n",
    "\n",
    "    # Divide the numerator by n - 1 and return\n",
    "    covariance_value=numerator/(len(x)-1)\n",
    "    return covariance_value\n",
    "\n",
    "\n",
    "covariance(height, weight)\n",
    "# 144.75789473684208"
   ]
  },
  {
   "cell_type": "markdown",
   "metadata": {},
   "source": [
    "So, we have a covariance of about 144.8. Recall the questions posed at the beginning:\n",
    "\n",
    "1. Is there a linear relationship between weight an height? \n",
    "2. Does weight increase as height increases?\n",
    "3. How strong is the linear relationship between weight and height?\n",
    "\n",
    "Before looking at the answer below, try to identify: **Which (if any) questions can we answer with this covariance value?**\n",
    "\n",
    ".\n",
    "\n",
    ".\n",
    "\n",
    ".\n",
    "\n",
    "*Answer: we can answer questions 1 and 2.* \n",
    "\n",
    " - Because the covariance is not (close to) zero, we can say that there ***is*** a linear relationship between weight and height.\n",
    " - Because the covariance is positive rather than negative, we can say that in general, yes, weight increases as height increases.\n",
    "\n",
    "So far, we cannot give a clear answer to question 3, because the scale of the covariance is based on the units of measurement in this data (inches and pounds, in this case). \n",
    "\n",
    "While the covariance can be used to figure out *in which direction* two variables have a linear relationship — does one increase while the other decreases, or vice versa — any conclusion we might draw about the *strength* of the linear relationship from the covariance would be an artifact of these particular units.\n",
    "\n",
    "If we want to make a generalized claim about the strength of the relationship in order to compare it to measurements using different units (e.g. height and resting heart rate), we need a measure that compares like units with like units. **Correlation** (specifically Pearson correlation) converts the units of each variable to \"units of standard deviation\" and standarizes the scale of the resulting calculation from -1 to 1, allowing us to make claims about the strength of the relationship that are not tied to the original measurement units.\n",
    "\n",
    "In order to answer question 3, let's calculate the correlation."
   ]
  },
  {
   "cell_type": "markdown",
   "metadata": {},
   "source": [
    "## Calculating the Correlation\n",
    "\n",
    "In the previous lesson, we used this formula to represent population correlation:\n",
    "\n",
    "$$ r = \\frac{\\sum_{i=1}^{n}(x_i -\\mu_x)(y_i - \\mu_y)} {\\sqrt{\\sum_{i=1}^{n}(x_i - \\mu_x)^2 \\sum_{i=1}^{n}(y_i-\\mu_y)^2}}$$\n",
    "\n",
    "Now we'll use this version to calculate the sample correlation:\n",
    "\n",
    "$$ r = \\frac{\\sum_{i=1}^{n}(x_i -\\bar x)(y_i - \\bar y)} {\\sqrt{\\sum_{i=1}^{n}(x_i - \\bar x)^2 \\sum_{i=1}^{n}(y_i-\\bar y)^2}}$$\n",
    "\n",
    "Again, we are using $\\bar y$ and $\\bar x$ to represent sample means rather than $\\mu_x$ and $\\mu_y$ to represent population means.\n",
    "\n",
    "The numerator of correlation is the covariance: \n",
    "\n",
    "$$\\frac{1}{n-1}\\displaystyle\\sum_{i=1}^{n}(x_i -\\mu_x)(y_i - \\mu_y)$$\n",
    "\n",
    "And the denominator of correlation is the standard deviation of $X$ times the standard deviation of $Y$:\n",
    "\n",
    "$$\\sqrt{\\frac{1}{n-1} \\sum_{i=1}^{n}(x_i - \\bar{x})^2} * \\sqrt{\\frac{1}{n-1} \\sum_{i=1}^{n}(y_i - \\bar{y})^2}$$\n",
    "\n",
    "(The complete formula looks a bit different because the $\\frac{1}{n-1}$ is canceled out, and the square root is applied to both x and y at once.)\n",
    "\n",
    "Let's use this helper function to calculate the standard deviation:"
   ]
  },
  {
   "cell_type": "code",
   "execution_count": 11,
   "metadata": {},
   "outputs": [
    {
     "data": {
      "text/plain": [
       "5.112162998801562"
      ]
     },
     "execution_count": 11,
     "metadata": {},
     "output_type": "execute_result"
    }
   ],
   "source": [
    "# Run this cell without changes\n",
    "from math import sqrt\n",
    "\n",
    "def stddev(var):\n",
    "    mean = sum(var)/len(var)\n",
    "    \n",
    "    sum_of_squares = 0\n",
    "    for i in var:\n",
    "        sum_of_squares += (i - mean)**2\n",
    "    \n",
    "    n = len(var)\n",
    "    variance = sum_of_squares / (n - 1)\n",
    "    return sqrt(variance)\n",
    "\n",
    "stddev(height)\n",
    "# 5.112162998801562"
   ]
  },
  {
   "cell_type": "markdown",
   "metadata": {},
   "source": [
    "Now, use the functions `covariance()` and `stddev()` to define a function, `correlation()` that calculates the correlation between two lists. "
   ]
  },
  {
   "cell_type": "code",
   "execution_count": 12,
   "metadata": {},
   "outputs": [
    {
     "data": {
      "text/plain": [
       "0.9773995748246297"
      ]
     },
     "execution_count": 12,
     "metadata": {},
     "output_type": "execute_result"
    }
   ],
   "source": [
    "# Calculate correlation between two variables using formula above\n",
    "# Replace None with appropriate code\n",
    "\n",
    "def correlation(x, y):\n",
    "    # Find the numerator (covariance)\n",
    "    numerator = covariance(x,y)\n",
    "    \n",
    "    # Find standard deviations of both lists\n",
    "    s_x = stddev(x)\n",
    "    s_y = stddev(y)\n",
    "\n",
    "    pearson_coeff=covariance(x,y)/(s_x*s_y)\n",
    "    return pearson_coeff\n",
    "\n",
    "\n",
    "correlation(height, weight)\n",
    "# 0.9773995748246297"
   ]
  },
  {
   "cell_type": "markdown",
   "metadata": {},
   "source": [
    "A correlation of 0.98, that's very close to 1! That means we can answer question 3: there is a **very strong** linear relationship between height and weight — at least for this particular sample.\n",
    "\n",
    "That's one of the key takeaways, that sample size plays a major rule in determining the nature of a variable and its relationship with other variables. The set of 20 records used we seem to correlate highly, but if you look at 20 other people, you'll see that this result will be different. The correlation here will depend on the *sample*, and you'll see that this will differ more clearly when working with smaller samples.\n",
    "\n",
    "(_Note:_ A correlation of a variable with itself is always equal to 1.)\n",
    "\n",
    "A scatter plot of this sample of height and weight aligns well with this finding of a strong correlation:"
   ]
  },
  {
   "cell_type": "code",
   "execution_count": 13,
   "metadata": {},
   "outputs": [
    {
     "data": {
      "image/png": "[encoded data removed]",
      "text/plain": [
       "<Figure size 432x288 with 1 Axes>"
      ]
     },
     "metadata": {
      "needs_background": "light"
     },
     "output_type": "display_data"
    }
   ],
   "source": [
    "# Run this cell without changes\n",
    "\n",
    "fig, ax = plt.subplots()\n",
    "\n",
    "ax.scatter(height, weight, label=\"actual data\")\n",
    "\n",
    "x_bounds = [min(height), max(height)]\n",
    "y_bounds = [min(weight), max(weight)]\n",
    "\n",
    "ax.plot(x_bounds, y_bounds, \"--\", label=\"perfect correlation\")\n",
    "\n",
    "ax.set_title(\"Height vs. Weight for a Sample of Individuals\")\n",
    "ax.set_xlabel(\"Height (inches)\")\n",
    "ax.set_ylabel(\"Weight (pounds)\")\n",
    "\n",
    "ax.legend();"
   ]
  },
  {
   "cell_type": "markdown",
   "metadata": {},
   "source": [
    "## Simplifying the Process with NumPy\n",
    "\n",
    "The goal of this exercise was for you to develop a deeper understanding of these statistics and to practice writing Python functions.\n",
    "\n",
    "In a professional data science setting, you would not write these functions by hand, you would use a library to compute these statistics quickly and easily. Here, we'll use NumPy."
   ]
  },
  {
   "cell_type": "code",
   "execution_count": 14,
   "metadata": {},
   "outputs": [],
   "source": [
    "# Run this cell without changes\n",
    "import numpy as np"
   ]
  },
  {
   "cell_type": "markdown",
   "metadata": {},
   "source": [
    "### Covariance with NumPy"
   ]
  },
  {
   "cell_type": "code",
   "execution_count": 15,
   "metadata": {},
   "outputs": [
    {
     "data": {
      "text/plain": [
       "144.75789473684205"
      ]
     },
     "execution_count": 15,
     "metadata": {},
     "output_type": "execute_result"
    }
   ],
   "source": [
    "# Run this cell without changes\n",
    "# NumPy calculates cov(height, height), cov(height, weight), cov(weight, height), and cov(weight, weight)\n",
    "# We only need height vs. weight so we extract just that value\n",
    "covariance_matrix = np.cov(height, weight)\n",
    "covariance_matrix[0][1]"
   ]
  },
  {
   "cell_type": "markdown",
   "metadata": {},
   "source": [
    "### Correlation with NumPy"
   ]
  },
  {
   "cell_type": "code",
   "execution_count": 16,
   "metadata": {},
   "outputs": [
    {
     "data": {
      "text/plain": [
       "0.9773995748246294"
      ]
     },
     "execution_count": 16,
     "metadata": {},
     "output_type": "execute_result"
    }
   ],
   "source": [
    "# Run this cell without changes\n",
    "# Same as covariance, NumPy returns a matrix but we only need one value\n",
    "correlation_matrix = np.corrcoef(height, weight)\n",
    "correlation_matrix[0][1]"
   ]
  },
  {
   "cell_type": "markdown",
   "metadata": {},
   "source": [
    "That was a lot simpler than calculating it by hand!\n",
    "\n",
    "## Summary \n",
    "\n",
    "In this lab, you practiced writing functions to calculate the covariance and correlation between variables. Along the way, you performed mean normalization and computed dot products. Finally, you learned how to calculate these measures using NumPy methods."
   ]
  }
 ],
 "metadata": {
  "kernelspec": {
   "display_name": "Python 3",
   "language": "python",
   "name": "python3"
  },
  "language_info": {
   "codemirror_mode": {
    "name": "ipython",
    "version": 3
   },
   "file_extension": ".py",
   "mimetype": "text/x-python",
   "name": "python",
   "nbconvert_exporter": "python",
   "pygments_lexer": "ipython3",
   "version": "3.8.5"
  }
 },
 "nbformat": 4,
 "nbformat_minor": 2
}
